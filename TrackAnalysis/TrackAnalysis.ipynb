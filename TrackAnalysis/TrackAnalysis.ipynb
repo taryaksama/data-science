{
  "nbformat": 4,
  "nbformat_minor": 0,
  "metadata": {
    "colab": {
      "private_outputs": true,
      "provenance": [],
      "authorship_tag": "ABX9TyNk5nuHuCMOe8PHxWLYkaVi",
      "include_colab_link": true
    },
    "kernelspec": {
      "name": "python3",
      "display_name": "Python 3"
    },
    "language_info": {
      "name": "python"
    }
  },
  "cells": [
    {
      "cell_type": "markdown",
      "metadata": {
        "id": "view-in-github",
        "colab_type": "text"
      },
      "source": [
        "<a href=\"https://colab.research.google.com/github/taryaksama/data-science/blob/master/TrackAnalysis/TrackAnalysis.ipynb\" target=\"_parent\"><img src=\"https://colab.research.google.com/assets/colab-badge.svg\" alt=\"Open In Colab\"/></a>"
      ]
    },
    {
      "cell_type": "markdown",
      "source": [
        "# A. Setup"
      ],
      "metadata": {
        "id": "i7XAawNl0RMD"
      }
    },
    {
      "cell_type": "code",
      "execution_count": null,
      "metadata": {
        "id": "egvJWiM7z3k9"
      },
      "outputs": [],
      "source": [
        "#import packages\n",
        "import os\n",
        "import numpy as np\n",
        "import pandas as pd\n",
        "import matplotlib.pyplot as plt\n",
        "import seaborn as sns"
      ]
    },
    {
      "cell_type": "code",
      "source": [
        "# Clone GitHub repository\n",
        "!git clone https://github.com/taryaksama/data-science/\n",
        "%cd data-science/TrackAnalysis"
      ],
      "metadata": {
        "id": "QlVVqLz90V1z"
      },
      "execution_count": null,
      "outputs": []
    },
    {
      "cell_type": "markdown",
      "source": [
        "# B. Experimental Plan"
      ],
      "metadata": {
        "id": "E68GXsyl0dA-"
      }
    },
    {
      "cell_type": "code",
      "source": [
        "path = '.' #address of working directory\n",
        "data_path = path + '/datasets'\n",
        "\n",
        "# create a DataFrame with all experiments data\n",
        "folder_list = [f for f in os.listdir(data_path) if (os.path.isdir(os.path.join(data_path, f)) and f[:6].isdigit())]\n",
        "exp = pd.DataFrame(folder_list, columns=['folderpath'])"
      ],
      "metadata": {
        "id": "uLG2J_I50nQF"
      },
      "execution_count": null,
      "outputs": []
    },
    {
      "cell_type": "code",
      "source": [
        "exp_date = [exp.folderpath[i][:6] for i in range(len(exp.folderpath))]\n",
        "exp_strain = [exp.folderpath[i][7:10] for i in range(len(exp.folderpath))]\n",
        "exp_surface_coverage = [\n",
        "    float(exp.folderpath[i][exp.folderpath[i].find(\"_SC\")+3:exp.folderpath[i].find(\"_SC\")+5])\n",
        "    for i in range(len(exp.folderpath))\n",
        "    ]\n",
        "\n",
        "exp['date'] = exp_date\n",
        "exp['strain'] = exp_strain\n",
        "exp['surface_coverage'] = exp_surface_coverage\n",
        "\n",
        "exp.head(10)"
      ],
      "metadata": {
        "id": "pzN5Sgd53AL5"
      },
      "execution_count": null,
      "outputs": []
    },
    {
      "cell_type": "markdown",
      "source": [
        "# 1. Sinuosity"
      ],
      "metadata": {
        "id": "kmPeer-J2yG0"
      }
    },
    {
      "cell_type": "code",
      "source": [
        "folder_path = data_path+'/'+exp.folderpath[0]\n",
        "filename = os.listdir(folder_path)[0]\n",
        "df = pd.read_csv(folder_path+'/'+filename)\n",
        "\n",
        "sinuosity = df['SINUOSITY'].to_list()\n",
        "sinuosity_stats = df['SINUOSITY'].describe()\n",
        "scount, smean, sstad, smin, smax = sinuosity_stats.iloc[0], sinuosity_stats.iloc[1], sinuosity_stats.iloc[2], sinuosity_stats.iloc[3], sinuosity_stats.iloc[7]\n",
        "\n",
        "\n",
        "# print(a)\n",
        "\n",
        "df['SINUOSITY'].describe()"
      ],
      "metadata": {
        "id": "gPad0KTrdn7T"
      },
      "execution_count": null,
      "outputs": []
    },
    {
      "cell_type": "markdown",
      "source": [
        "## Function"
      ],
      "metadata": {
        "id": "wQgB0k7Fjdiv"
      }
    },
    {
      "cell_type": "code",
      "source": [
        "def get_sinuosity(path, filename):\n",
        "  \"\"\"\n",
        "  Extracts sinuosity data and computes statistical metrics from a dataset.\n",
        "\n",
        "  Parameters:\n",
        "  - path (str): The folder path where the dataset file is located.\n",
        "  - filename (str): The name of the file containing the dataset.\n",
        "\n",
        "  Returns:\n",
        "  - ntracks (int): The total number of tracks (rows) in the dataset.\n",
        "  - sinuosity (list): A list of sinuosity values from the 'SINUOSITY' column.\n",
        "  - smean (float): The mean (average) sinuosity value.\n",
        "  - sstad (float): The standard deviation of the sinuosity values.\n",
        "  - smin (float): The minimum sinuosity value.\n",
        "  - smax (float): The maximum sinuosity value.\n",
        "\n",
        "  Description:\n",
        "  This function reads a dataset (in CSV format) from the specified folder path and filename. It calculates\n",
        "  the following metrics from the 'SINUOSITY' column:\n",
        "      - The mean, standard deviation, minimum, and maximum sinuosity values.\n",
        "      - The total number of tracks in the dataset (rows).\n",
        "      - A list of all sinuosity values.\n",
        "\n",
        "  The function is designed for datasets where 'SINUOSITY' is a numeric column, and it uses the Pandas\n",
        "  library to perform file I/O and statistical calculations.\n",
        "\n",
        "  Example Usage:\n",
        "  >>> ntracks, sinuosity, smean, sstad, smin, smax = get_sinuosity('/data', 'tracks.csv')\n",
        "  >>> print(f\"Number of Tracks: {ntracks}\")\n",
        "  >>> print(f\"Mean Sinuosity: {smean}, Std Dev: {sstad}, Min: {smin}, Max: {smax}\")\n",
        "\n",
        "  Note:\n",
        "  Ensure the dataset file exists at the specified location and contains a column named 'SINUOSITY'.\n",
        "  \"\"\"\n",
        "\n",
        "  df = pd.read_csv(folder_path+'/'+filename)\n",
        "\n",
        "  print('iteration: '+str(i))\n",
        "  print(filename)\n",
        "\n",
        "  ntracks = len(df)\n",
        "  sinuosity = df['SINUOSITY'].to_list()\n",
        "  sinuosity_stats = df['SINUOSITY'].describe()\n",
        "  smean, sstd, smin, smax = sinuosity_stats.iloc[1], sinuosity_stats.iloc[2], sinuosity_stats.iloc[3], sinuosity_stats.iloc[7]\n",
        "\n",
        "  return ntracks, sinuosity, smean, sstd, smin, smax"
      ],
      "metadata": {
        "id": "vzc1Klx-2rpH"
      },
      "execution_count": null,
      "outputs": []
    },
    {
      "cell_type": "code",
      "source": [
        "# Initialize columns of experiment matrix\n",
        "exp['ntracks'] = [[] for _ in range(len(exp))]\n",
        "exp['sinuosity_datapoints'] = [[] for _ in range(len(exp))]\n",
        "exp['mean_sinuosity'] = [[] for _ in range(len(exp))]\n",
        "exp['std_sinuosity'] = [[] for _ in range(len(exp))]\n",
        "exp['min_sinuosity'] = [[] for _ in range(len(exp))]\n",
        "exp['max_sinuosity'] = [[] for _ in range(len(exp))]\n",
        "\n",
        "exp.head(5)"
      ],
      "metadata": {
        "id": "yklLy3aBCnx7"
      },
      "execution_count": null,
      "outputs": []
    },
    {
      "cell_type": "code",
      "source": [
        "for i in range(len(exp)):\n",
        "  folder_path = data_path+'/'+exp.folderpath[i]\n",
        "  filename = os.listdir(folder_path)[0]\n",
        "  a, b, c, d, e, f = get_sinuosity(folder_path, filename)\n",
        "  exp.at[i, 'ntracks'] = a\n",
        "  exp.at[i, 'sinuosity_datapoints'] = b\n",
        "  exp.at[i, 'mean_sinuosity'] = c\n",
        "  exp.at[i, 'std_sinuosity'] = d\n",
        "  exp.at[i, 'min_sinuosity'] = e\n",
        "  exp.at[i, 'max_sinuosity'] = f"
      ],
      "metadata": {
        "id": "SfqB9xRwoReI"
      },
      "execution_count": null,
      "outputs": []
    },
    {
      "cell_type": "code",
      "source": [
        "exp.head(5)"
      ],
      "metadata": {
        "id": "h5hKyp9jo4lN"
      },
      "execution_count": null,
      "outputs": []
    },
    {
      "cell_type": "markdown",
      "source": [
        "# C. Plot"
      ],
      "metadata": {
        "id": "gXWKxy6-22WD"
      }
    },
    {
      "cell_type": "code",
      "source": [
        "# scatter\n",
        "\n",
        "# plt.scatter (x=surface coverage, y=sinuosity) #all points\n",
        "# .groupby\n",
        "# plt.scatter (x=surface coverage, y=sinuosity)"
      ],
      "metadata": {
        "id": "M5apH8m6CzYF"
      },
      "execution_count": null,
      "outputs": []
    },
    {
      "cell_type": "code",
      "source": [
        "# violin\n",
        "\n",
        "# sns.violin\n",
        "# sns.stripplot"
      ],
      "metadata": {
        "id": "R6B0lHlbDuvU"
      },
      "execution_count": null,
      "outputs": []
    }
  ]
}