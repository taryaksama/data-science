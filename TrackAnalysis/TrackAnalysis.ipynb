{
  "nbformat": 4,
  "nbformat_minor": 0,
  "metadata": {
    "colab": {
      "private_outputs": true,
      "provenance": [],
      "authorship_tag": "ABX9TyNx8FUN1MA54Xyb4kWJ7lmq",
      "include_colab_link": true
    },
    "kernelspec": {
      "name": "python3",
      "display_name": "Python 3"
    },
    "language_info": {
      "name": "python"
    }
  },
  "cells": [
    {
      "cell_type": "markdown",
      "metadata": {
        "id": "view-in-github",
        "colab_type": "text"
      },
      "source": [
        "<a href=\"https://colab.research.google.com/github/taryaksama/data-science/blob/master/TrackAnalysis/TrackAnalysis.ipynb\" target=\"_parent\"><img src=\"https://colab.research.google.com/assets/colab-badge.svg\" alt=\"Open In Colab\"/></a>"
      ]
    },
    {
      "cell_type": "markdown",
      "source": [
        "# A. Setup"
      ],
      "metadata": {
        "id": "i7XAawNl0RMD"
      }
    },
    {
      "cell_type": "code",
      "execution_count": null,
      "metadata": {
        "id": "egvJWiM7z3k9"
      },
      "outputs": [],
      "source": [
        "#import packages\n",
        "import os\n",
        "import numpy as np\n",
        "import pandas as pd\n",
        "import matplotlib.pyplot as plt\n",
        "import seaborn as sns"
      ]
    },
    {
      "cell_type": "code",
      "source": [
        "# Clone GitHub repository\n",
        "!git clone https://github.com/taryaksama/data-science/\n",
        "%cd data-science/TrackAnalysis"
      ],
      "metadata": {
        "id": "QlVVqLz90V1z"
      },
      "execution_count": null,
      "outputs": []
    },
    {
      "cell_type": "markdown",
      "source": [
        "# B. Experimental Plan"
      ],
      "metadata": {
        "id": "E68GXsyl0dA-"
      }
    },
    {
      "cell_type": "code",
      "source": [
        "path = '.' #address of working directory\n",
        "data_path = path + '/datasets'\n",
        "\n",
        "# create a DataFrame with all experiments data\n",
        "folder_list = [f for f in os.listdir(data_path) if (os.path.isdir(os.path.join(data_path, f)) and f[:6].isdigit())]\n",
        "exp = pd.DataFrame(folder_list, columns=['folderpath'])\n",
        "print(exp.head(5))"
      ],
      "metadata": {
        "id": "uLG2J_I50nQF"
      },
      "execution_count": null,
      "outputs": []
    },
    {
      "cell_type": "code",
      "source": [
        "sloc = exp.folderpath[0].find(\"_SC\")\n",
        "exp.folderpath[0][exp.folderpath[0].find(\"_SC\")+3:exp.folderpath[0].find(\"_SC\")+5]"
      ],
      "metadata": {
        "id": "lJt5ZZuZ3eT2"
      },
      "execution_count": null,
      "outputs": []
    },
    {
      "cell_type": "code",
      "source": [
        "exp_date = [exp.folderpath[i][:6] for i in range(len(exp.folderpath))]\n",
        "exp_strain = [exp.folderpath[i][7:10] for i in range(len(exp.folderpath))]\n",
        "exp_surface_coverage = [\n",
        "    float(exp.folderpath[i][exp.folderpath[i].find(\"_SC\")+3:exp.folderpath[i].find(\"_SC\")+5])\n",
        "    for i in range(len(exp.folderpath))\n",
        "    ]\n",
        "\n",
        "exp['date'] = exp_date\n",
        "exp['strain'] = exp_strain\n",
        "exp['surface_coverage'] = exp_surface_coverage"
      ],
      "metadata": {
        "id": "pzN5Sgd53AL5"
      },
      "execution_count": null,
      "outputs": []
    },
    {
      "cell_type": "code",
      "source": [
        "exp"
      ],
      "metadata": {
        "id": "MP1BPlwH1L-q"
      },
      "execution_count": null,
      "outputs": []
    },
    {
      "cell_type": "markdown",
      "source": [
        "# 1. Sinuosity"
      ],
      "metadata": {
        "id": "kmPeer-J2yG0"
      }
    },
    {
      "cell_type": "code",
      "source": [
        "#"
      ],
      "metadata": {
        "id": "vzc1Klx-2rpH"
      },
      "execution_count": null,
      "outputs": []
    },
    {
      "cell_type": "markdown",
      "source": [
        "# C. Plot"
      ],
      "metadata": {
        "id": "gXWKxy6-22WD"
      }
    }
  ]
}