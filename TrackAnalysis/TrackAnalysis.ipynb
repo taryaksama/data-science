{
  "nbformat": 4,
  "nbformat_minor": 0,
  "metadata": {
    "colab": {
      "private_outputs": true,
      "provenance": [],
      "authorship_tag": "ABX9TyNrStwpzrPjkhgfbi4ZiOJj",
      "include_colab_link": true
    },
    "kernelspec": {
      "name": "python3",
      "display_name": "Python 3"
    },
    "language_info": {
      "name": "python"
    }
  },
  "cells": [
    {
      "cell_type": "markdown",
      "metadata": {
        "id": "view-in-github",
        "colab_type": "text"
      },
      "source": [
        "<a href=\"https://colab.research.google.com/github/taryaksama/data-science/blob/master/TrackAnalysis/TrackAnalysis.ipynb\" target=\"_parent\"><img src=\"https://colab.research.google.com/assets/colab-badge.svg\" alt=\"Open In Colab\"/></a>"
      ]
    },
    {
      "cell_type": "markdown",
      "source": [
        "# A. Setup"
      ],
      "metadata": {
        "id": "i7XAawNl0RMD"
      }
    },
    {
      "cell_type": "code",
      "execution_count": null,
      "metadata": {
        "id": "egvJWiM7z3k9"
      },
      "outputs": [],
      "source": [
        "#import packages\n",
        "import os\n",
        "import numpy as np\n",
        "import pandas as pd\n",
        "import matplotlib.pyplot as plt\n",
        "import seaborn as sns"
      ]
    },
    {
      "cell_type": "code",
      "source": [
        "# Clone GitHub repository\n",
        "!git clone https://github.com/taryaksama/data-science/\n",
        "%cd data-science/TrackAnalysis"
      ],
      "metadata": {
        "id": "QlVVqLz90V1z"
      },
      "execution_count": null,
      "outputs": []
    },
    {
      "cell_type": "markdown",
      "source": [
        "# B. Experimental Plan"
      ],
      "metadata": {
        "id": "E68GXsyl0dA-"
      }
    },
    {
      "cell_type": "code",
      "source": [
        "path = '.' #address of working directory\n",
        "data_path = path + '/datasets'\n",
        "\n",
        "# create a DataFrame with all experiments data\n",
        "folder_list = [f for f in os.listdir(data_path) if (os.path.isdir(os.path.join(data_path, f)) and f[:6].isdigit())]\n",
        "exp = pd.DataFrame(folder_list, columns=['folderpath'])"
      ],
      "metadata": {
        "id": "uLG2J_I50nQF"
      },
      "execution_count": null,
      "outputs": []
    },
    {
      "cell_type": "code",
      "source": [
        "exp_date = [exp.folderpath[i][:6] for i in range(len(exp.folderpath))]\n",
        "exp_strain = [exp.folderpath[i][7:10] for i in range(len(exp.folderpath))]\n",
        "exp_surface_coverage = [\n",
        "    float(exp.folderpath[i][exp.folderpath[i].find(\"_SC\")+3:exp.folderpath[i].find(\"_SC\")+5])\n",
        "    for i in range(len(exp.folderpath))\n",
        "    ]\n",
        "\n",
        "exp['date'] = exp_date\n",
        "exp['strain'] = exp_strain\n",
        "exp['surface_coverage'] = exp_surface_coverage\n",
        "\n",
        "exp.head(10)"
      ],
      "metadata": {
        "id": "pzN5Sgd53AL5"
      },
      "execution_count": null,
      "outputs": []
    },
    {
      "cell_type": "markdown",
      "source": [
        "# 1. Sinuosity"
      ],
      "metadata": {
        "id": "kmPeer-J2yG0"
      }
    },
    {
      "cell_type": "code",
      "source": [
        "folder_path = data_path+'/'+exp.folderpath[0]\n",
        "filename = os.listdir(folder_path)[0]\n",
        "df = pd.read_csv(folder_path+'/'+filename)\n",
        "\n",
        "sinuosity = df['SINUOSITY'].to_list()\n",
        "sinuosity_stats = df['SINUOSITY'].describe()\n",
        "scount, smean, sstad, smin, smax = sinuosity_stats.iloc[0], sinuosity_stats.iloc[1], sinuosity_stats.iloc[2], sinuosity_stats.iloc[3], sinuosity_stats.iloc[7]\n",
        "\n",
        "\n",
        "# print(a)\n",
        "\n",
        "df['SINUOSITY'].describe()"
      ],
      "metadata": {
        "id": "gPad0KTrdn7T"
      },
      "execution_count": null,
      "outputs": []
    },
    {
      "cell_type": "markdown",
      "source": [
        "## Function"
      ],
      "metadata": {
        "id": "wQgB0k7Fjdiv"
      }
    },
    {
      "cell_type": "code",
      "source": [
        "def get_sinuosity(path, filename):\n",
        "    \"\"\"\n",
        "    Computes and returns sinuosity-related metrics from a dataset.\n",
        "\n",
        "    Parameters:\n",
        "    - path (str): The file path where the dataset is located.\n",
        "    - filename (str): The name of the file containing the dataset.\n",
        "\n",
        "    Returns:\n",
        "    - sinuosity (list): A list of sinuosity values extracted from the dataset.\n",
        "    - scount (int): The total count of sinuosity values.\n",
        "    - smean (float): The mean (average) sinuosity value.\n",
        "    - sstad (float): The standard deviation of the sinuosity values.\n",
        "    - smin (float): The minimum sinuosity value.\n",
        "    - smax (float): The maximum sinuosity value.\n",
        "\n",
        "    Description:\n",
        "    This function reads a dataset (likely a CSV or similar format) from the specified `path` and `filename`,\n",
        "    calculates key statistical metrics for the 'SINUOSITY' column, and returns these metrics. The metrics\n",
        "    include the count, mean, standard deviation, minimum, and maximum values of the sinuosity, as well as\n",
        "    the full list of sinuosity values.\n",
        "\n",
        "    Note:\n",
        "    The function assumes that the dataset has a column named 'SINUOSITY'. If the column is missing, the\n",
        "    function will raise an error.\n",
        "    \"\"\"\n",
        "\n",
        "  sinuosity = df['SINUOSITY'].to_list()\n",
        "  sinuosity_stats = df['SINUOSITY'].describe()\n",
        "  scount, smean, sstad, smin, smax = sinuosity_stats.iloc[0], sinuosity_stats.iloc[1], sinuosity_stats.iloc[2], sinuosity_stats.iloc[3], sinuosity_stats.iloc[7]\n",
        "\n",
        "  return sinuosity, scount, smean, sstad, smin, smax\n",
        "\n",
        "# # debugging\n",
        "# folder_path = data_path+'/'+exp.folderpath[0]\n",
        "# filename = os.listdir(folder_path)[0]\n",
        "\n",
        "# get_sinuosity(folder_path, filename)\n"
      ],
      "metadata": {
        "id": "vzc1Klx-2rpH"
      },
      "execution_count": null,
      "outputs": []
    },
    {
      "cell_type": "code",
      "source": [
        "# Write loop and extract\n",
        "# mean_sinuosity\n",
        "# std_sinuosity\n",
        "# max_sinuosity\n",
        "# min_sinuosity\n",
        "\n",
        "# Initialize columns of experiment matrix\n",
        "exp['sinuosity'] = [[] for _ in range(len(exp))]\n",
        "exp['mean_sinuosity'] = [[] for _ in range(len(exp))]\n",
        "exp['std_sinuosity'] = [[] for _ in range(len(exp))]"
      ],
      "metadata": {
        "id": "yklLy3aBCnx7"
      },
      "execution_count": null,
      "outputs": []
    },
    {
      "cell_type": "markdown",
      "source": [
        "# C. Plot"
      ],
      "metadata": {
        "id": "gXWKxy6-22WD"
      }
    },
    {
      "cell_type": "code",
      "source": [
        "# scatter\n",
        "\n",
        "# plt.scatter (x=surface coverage, y=sinuosity) #all points\n",
        "# .groupby\n",
        "# plt.scatter (x=surface coverage, y=sinuosity)"
      ],
      "metadata": {
        "id": "M5apH8m6CzYF"
      },
      "execution_count": null,
      "outputs": []
    },
    {
      "cell_type": "code",
      "source": [
        "# violin\n",
        "\n",
        "# sns.violin\n",
        "# sns.stripplot"
      ],
      "metadata": {
        "id": "R6B0lHlbDuvU"
      },
      "execution_count": null,
      "outputs": []
    }
  ]
}