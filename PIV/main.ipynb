{
 "cells": [
  {
   "cell_type": "markdown",
   "metadata": {},
   "source": [
    "# main.ipynb"
   ]
  },
  {
   "cell_type": "code",
   "execution_count": null,
   "metadata": {},
   "outputs": [],
   "source": [
    "from utils import *\n",
    "from PIVAnalysis import *"
   ]
  },
  {
   "cell_type": "code",
   "execution_count": null,
   "metadata": {},
   "outputs": [],
   "source": [
    "# Get datasets directory\n",
    "folder_path = Path.cwd().parent.parent / 'datasets' / 'piv' / 'background_subtracted_trial' \n",
    "file_list = os.listdir(folderPath)\n",
    "\n",
    "# Read image\n",
    "i = 0\n",
    "image_path = folder_path / file_list[i]\n",
    "movie = imageio.imread(image_path)"
   ]
  },
  {
   "cell_type": "markdown",
   "metadata": {},
   "source": [
    "## Parameters for PIV"
   ]
  },
  {
   "cell_type": "code",
   "execution_count": null,
   "metadata": {},
   "outputs": [],
   "source": [
    "# -- Pre-processing\n",
    "WINSIZE:int = 32 # pixels, interrogation window size in frame 't'\n",
    "SEARCHSIZE:int = 38  # pixels, search area size in frame 't+1'\n",
    "OVERLAP:int = 17 # pixels, 50% overlap\n",
    "DT:float = 0.25 # sec, time interval between the two frames\n",
    "PX2UM:float = 2.75 # pixels/micrometers\n",
    "# -- Post-processing\n",
    "S2N_THRESHOLD:float = 1.05 # AU, signal-to-noise threshold to remove false values"
   ]
  },
  {
   "cell_type": "code",
   "execution_count": null,
   "metadata": {},
   "outputs": [],
   "source": [
    "# Test movie\n",
    "# a subset of 300x300 pixels on the top left corner of the original image\n",
    "\n",
    "test_movie = movie[:300, :300]\n",
    "\n",
    "frame_a = adjust_contrast(test_movie[0,:,:])\n",
    "frame_b = adjust_contrast(test_movie[1,:,:])"
   ]
  },
  {
   "cell_type": "markdown",
   "metadata": {},
   "source": [
    "check if piv_image2image is working\n",
    "- display t & t+1\n",
    "- display resulting vectors"
   ]
  },
  {
   "cell_type": "code",
   "execution_count": null,
   "metadata": {},
   "outputs": [],
   "source": [
    "x, y, u, v = piv_image2image(\n",
    "    frame_a, \n",
    "    frame_b, \n",
    "    WINSIZE, \n",
    "    SEARCHSIZE, \n",
    "    OVERLAP, \n",
    "    DT, \n",
    "    PX2UM, \n",
    "    S2N_THRESHOLD)\n",
    "\n",
    "# Plot\n",
    "fig, ax = plt.subplots(3, 1, figsize=(10, 10))\n",
    "ax[0].imshow(frame_a, cmap='gray')\n",
    "ax[1].imshow(frame_b, cmap='gray')\n",
    "ax[2].quiver(x, y, u, v, color='r')\n",
    "\n",
    "plt.show()"
   ]
  },
  {
   "cell_type": "markdown",
   "metadata": {},
   "source": [
    "### Effect of parameters"
   ]
  },
  {
   "cell_type": "markdown",
   "metadata": {},
   "source": [
    "effect of window size on the same image subset\n",
    "- 16 px\n",
    "- 32 px\n",
    "- 64 px\n",
    "CONSTANT PARAMETERS = overlap stays at 50%"
   ]
  },
  {
   "cell_type": "code",
   "execution_count": null,
   "metadata": {},
   "outputs": [],
   "source": [
    "test_windsize = [16, 32, 64]\n",
    "\n",
    "for index, value in enumerate(test_windsize):\n",
    "    x, y, u, v = piv_image2image(\n",
    "        frame_a, \n",
    "        frame_b, \n",
    "        value, \n",
    "        SEARCHSIZE, \n",
    "        OVERLAP, \n",
    "        DT, \n",
    "        PX2UM, \n",
    "        S2N_THRESHOLD)\n",
    "\n",
    "    # Plot\n",
    "    fig, ax = plt.subplots(max(index), 1, figsize=(10, 10))\n",
    "    ax[index].imshow(frame_a, cmap='gray')\n",
    "    ax[index].quiver(x, y, u, v, color='r')\n",
    "\n",
    "    plt.show()"
   ]
  },
  {
   "cell_type": "markdown",
   "metadata": {},
   "source": [
    "effect of frame skipping on the same image subset\n",
    "- 1:1\n",
    "- 1:2\n",
    "- 1:4\n",
    "- 1:8\n",
    "CONSTANT PARAMETERS = S2N at 1.05"
   ]
  },
  {
   "cell_type": "code",
   "execution_count": null,
   "metadata": {},
   "outputs": [],
   "source": [
    "test_windsize = [16, 32, 64]\n",
    "\n",
    "for index, value in enumerate(test_windsize):\n",
    "    x, y, u, v = piv_image2image(\n",
    "        frame_a, \n",
    "        frame_b, \n",
    "        value, \n",
    "        SEARCHSIZE, \n",
    "        OVERLAP, \n",
    "        DT, \n",
    "        PX2UM, \n",
    "        S2N_THRESHOLD)\n",
    "\n",
    "    # Plot\n",
    "    fig, ax = plt.subplots(max(index), 1, figsize=(10, 10))\n",
    "    ax[index].imshow(frame_a, cmap='gray')\n",
    "    ax[index].quiver(x, y, u, v, color='r')\n",
    "\n",
    "    plt.show()"
   ]
  },
  {
   "cell_type": "markdown",
   "metadata": {},
   "source": [
    "effect of S2N\n",
    "- 1.05\n",
    "- 1.025\n",
    "- 1.1\n",
    "- 1.3"
   ]
  },
  {
   "cell_type": "code",
   "execution_count": null,
   "metadata": {},
   "outputs": [],
   "source": []
  },
  {
   "cell_type": "markdown",
   "metadata": {},
   "source": [
    "combined effect of S2N + timeskip"
   ]
  },
  {
   "cell_type": "code",
   "execution_count": null,
   "metadata": {},
   "outputs": [],
   "source": []
  },
  {
   "cell_type": "markdown",
   "metadata": {},
   "source": [
    "## Mean values"
   ]
  },
  {
   "cell_type": "markdown",
   "metadata": {},
   "source": [
    "compute over the film\n",
    "- norm\n",
    "- divergence\n",
    "- vorticity"
   ]
  },
  {
   "cell_type": "code",
   "execution_count": null,
   "metadata": {},
   "outputs": [],
   "source": [
    "flow_norm, flow_divergence, flow_vorticity = movie_flow_features(x, y, u, v, start=0, end=T)\n",
    "\n",
    "# Median values on 2D map over the course of the film\n",
    "fig, ax = plt.subplots(1, 3, figsize=(15,5))\n",
    "\n",
    "# Norm\n",
    "mean_flow_norm = np.median(flow_norm, axis=0)\n",
    "im0 = ax[0].imshow(mean_flow_norm, cmap='viridis')\n",
    "ax[0].set_title('Median Flow Norm')\n",
    "plt.colorbar(im0, ax=ax[0])\n",
    "\n",
    "# Divergence\n",
    "mean_flow_divergence = np.median(flow_divergence, axis=0)\n",
    "im1 = ax[1].imshow(mean_flow_divergence, cmap='bwr', norm=CenteredNorm())\n",
    "ax[1].set_title('Median Flow Divergence')\n",
    "plt.colorbar(im1, ax=ax[1])\n",
    "\n",
    "# Vorticity\n",
    "mean_flow_vorticity = np.median(flow_vorticity, axis=0)\n",
    "im2 = ax[2].imshow(mean_flow_vorticity, cmap='bwr', norm=CenteredNorm())\n",
    "ax[2].set_title('Median Flow Vorticity')\n",
    "plt.colorbar(im2, ax=ax[2])\n",
    "\n",
    "plt.tight_layout()\n",
    "plt.show()"
   ]
  }
 ],
 "metadata": {
  "language_info": {
   "name": "python"
  }
 },
 "nbformat": 4,
 "nbformat_minor": 2
}
