{
  "nbformat": 4,
  "nbformat_minor": 0,
  "metadata": {
    "colab": {
      "private_outputs": true,
      "provenance": [],
      "mount_file_id": "1s-Q0MfevpFo1g4ncT2Q3D_xxE0W5y0bJ",
      "authorship_tag": "ABX9TyPN2lQxCInDOcSz/IqXGldV",
      "include_colab_link": true
    },
    "kernelspec": {
      "name": "python3",
      "display_name": "Python 3"
    },
    "language_info": {
      "name": "python"
    }
  },
  "cells": [
    {
      "cell_type": "markdown",
      "metadata": {
        "id": "view-in-github",
        "colab_type": "text"
      },
      "source": [
        "<a href=\"https://colab.research.google.com/github/taryaksama/data-science/blob/master/Tesselation/TesselationAnalysis.ipynb\" target=\"_parent\"><img src=\"https://colab.research.google.com/assets/colab-badge.svg\" alt=\"Open In Colab\"/></a>"
      ]
    },
    {
      "cell_type": "markdown",
      "source": [
        "# A. Setup"
      ],
      "metadata": {
        "id": "q8JdjQhfSYHz"
      }
    },
    {
      "cell_type": "code",
      "source": [
        "%cd /content"
      ],
      "metadata": {
        "id": "n0rDDKdOwMMr"
      },
      "execution_count": null,
      "outputs": []
    },
    {
      "cell_type": "code",
      "execution_count": null,
      "metadata": {
        "id": "kj4XDax_RwAt"
      },
      "outputs": [],
      "source": [
        "#import packages\n",
        "import os\n",
        "import numpy as np\n",
        "import pandas as pd\n",
        "import matplotlib.pyplot as plt\n",
        "import seaborn as sns"
      ]
    },
    {
      "cell_type": "code",
      "source": [
        "# Clone GitHub repository\n",
        "!git clone https://github.com/taryaksama/data-science/Tesselation\n",
        "%cd Tesselation"
      ],
      "metadata": {
        "id": "QWK2mN8CVl-m"
      },
      "execution_count": null,
      "outputs": []
    },
    {
      "cell_type": "markdown",
      "source": [
        "# B. Experimental plan\n",
        "\n",
        "provide a dataframe with experimental plan\n",
        "- n_exp\n",
        "- date\n",
        "- strain\n",
        "- replica\n",
        "- file_adress"
      ],
      "metadata": {
        "id": "0srYMOgEpdwH"
      }
    },
    {
      "cell_type": "code",
      "source": [
        "%cd data-science/Tesselation\n",
        "%ls"
      ],
      "metadata": {
        "id": "M-ZXrAT0wSHh"
      },
      "execution_count": null,
      "outputs": []
    },
    {
      "cell_type": "code",
      "source": [
        "path = '.' #address of working directory\n",
        "data_path = path + '/datasets'\n",
        "\n",
        "# create a DataFrame with all experiments data\n",
        "folder_list = [f for f in os.listdir(data_path) if (os.path.isdir(os.path.join(data_path, f)) and f[:6].isdigit())]\n",
        "exp = pd.DataFrame(folder_list, columns=['folderpath'])\n",
        "print(exp.head(5))"
      ],
      "metadata": {
        "id": "cf6HjDVy-KC7"
      },
      "execution_count": null,
      "outputs": []
    },
    {
      "cell_type": "code",
      "source": [
        "exp_date = [exp.folderpath[i][:6] for i in range(len(exp.folderpath))]\n",
        "exp_strain = [exp.folderpath[i][7:10] for i in range(len(exp.folderpath))]\n",
        "\n",
        "exp['date'] = exp_date\n",
        "exp['strain'] = exp_strain\n",
        "# print(exp['date'].head(5))"
      ],
      "metadata": {
        "id": "LeKXheOfBN8j"
      },
      "execution_count": null,
      "outputs": []
    },
    {
      "cell_type": "markdown",
      "source": [
        "# 1. Histogram: Area"
      ],
      "metadata": {
        "id": "isiUFdNJXkVr"
      }
    },
    {
      "cell_type": "markdown",
      "source": [
        "## Function"
      ],
      "metadata": {
        "id": "Ybg0k_6yl-U6"
      }
    },
    {
      "cell_type": "code",
      "source": [
        "bin_edges = list(range(100))\n",
        "bin_edges_norm = list(np.linspace(0,10,101))\n",
        "\n",
        "def get_area_hist(path, filename, n_strain=0, n_replica=0):\n",
        "  df = pd.read_csv(path+filename)\n",
        "  df.columns = ['cellid', 'area', 'area_mean', 'area_norm']\n",
        "\n",
        "  counts, _, _ = plt.hist(df['area'], bins=bin_edges, density=True)\n",
        "  counts_norm, _, _ = plt.hist(df['area_norm'], bins=bin_edges_norm, density=True)\n",
        "  plt.close()\n",
        "\n",
        "  return counts, counts_norm, np.std(df['area']), np.std(df['area_norm']), df['area_norm'].max(), df['area_norm'].mean()"
      ],
      "metadata": {
        "id": "ZVcAXAMSl9Iz"
      },
      "execution_count": null,
      "outputs": []
    },
    {
      "cell_type": "markdown",
      "source": [
        "## Loop for all experiments"
      ],
      "metadata": {
        "id": "AGkmvCh4Xxn5"
      }
    },
    {
      "cell_type": "code",
      "source": [
        "# get histogram from all experiments\n",
        "exp['area_hist'] = [[] for _ in range(len(exp))]\n",
        "exp['area_hist_norm'] = [[] for _ in range(len(exp))]\n",
        "exp['area_hist_std'] = [[] for _ in range(len(exp))]\n",
        "exp['area_hist_norm_std'] = [[] for _ in range(len(exp))]\n",
        "exp['area_hist_norm_max'] = [[] for _ in range(len(exp))]\n",
        "exp['area_hist_norm_max-mean'] = [[] for _ in range(len(exp))]\n",
        "exp['area_hist_norm_cv'] = [[] for _ in range(len(exp))] # coefficient of variation = std / mean\n",
        "\n",
        "for n in range(len(exp)):\n",
        "    #path = path + '/tessellation/'\n",
        "    path = data_path + '/' +  exp.folderpath[n] + '/tessellation/'\n",
        "    filename = 'frame_0_voronoi_areas_microns.csv'\n",
        "\n",
        "    a, b, c, d, e, f = get_area_hist(path, filename)\n",
        "\n",
        "    exp.at[n, 'area_hist'] = a\n",
        "    exp.at[n, 'area_hist_norm'] = b\n",
        "    exp.at[n, 'area_hist_std'] = c\n",
        "    exp.at[n, 'area_hist_norm_std'] = d\n",
        "    exp.at[n, 'area_hist_norm_max'] = e\n",
        "    exp.at[n, 'area_hist_norm_mean'] = f\n",
        "    exp.at[n, 'area_hist_norm_cv'] = d/f"
      ],
      "metadata": {
        "id": "ZYLKCxzoI8Ao"
      },
      "execution_count": null,
      "outputs": []
    },
    {
      "cell_type": "markdown",
      "source": [
        "# 2. Surface Coverage"
      ],
      "metadata": {
        "id": "WnQ4_u08j7Ag"
      }
    },
    {
      "cell_type": "code",
      "source": [
        "# get surface coverage from all experiments\n",
        "exp['surface_coverage'] = [range(0,len(bin_edges)-1) for _ in range(len(exp))]\n",
        "\n",
        "for n in range(len(exp)):\n",
        "  path = 'datasets/' + exp.folderpath[n] + '/surface_coverage/'\n",
        "  filename = 'surface_coverage_and_density.csv'\n",
        "  df = pd.read_csv(path+filename)\n",
        "\n",
        "  exp.at[n, 'surface_coverage'] = float(df.iloc[:,1])"
      ],
      "metadata": {
        "id": "GgdDeh6mYtHG"
      },
      "execution_count": null,
      "outputs": []
    },
    {
      "cell_type": "markdown",
      "source": [
        "# C. Plots"
      ],
      "metadata": {
        "id": "fMUZYoRqdbm3"
      }
    },
    {
      "cell_type": "markdown",
      "source": [
        "## Area histograms"
      ],
      "metadata": {
        "id": "23K3abUMdrxh"
      }
    },
    {
      "cell_type": "code",
      "source": [
        "data_plot = pd.DataFrame([], columns=['x', 'y', 'strain'])\n",
        "#data_plot['x'] = [bin_edges[:-1] for _ in range (len(exp))]\n",
        "data_plot['x'] = [bin_edges_norm[:-1] for _ in range (len(exp))]\n",
        "data_plot['y'] = exp['area_hist_norm'] # change depending on column\n",
        "#data_plot['y'] = exp['area_hist'] # change depending on column\n",
        "data_plot['strain'] = exp['strain']\n",
        "data_plot.head(5)"
      ],
      "metadata": {
        "id": "OQ13hL8hlDjk"
      },
      "execution_count": null,
      "outputs": []
    },
    {
      "cell_type": "code",
      "source": [
        "# Plot histogram\n",
        "\n",
        "## Print all curves\n",
        "#for n in range(len(data_plot)):\n",
        "    #plt.plot(data_plot.at[n, 'x'], data_plot.at[n, 'y'])\n",
        "\n",
        "## Print all the curves from one strain only\n",
        "for n in range(len(data_plot)):\n",
        "    if '232' in data_plot['strain'].iloc[n]:\n",
        "        plt.plot(data_plot.at[n, 'x'], data_plot.at[n, 'y'])\n",
        "        plt.yscale('log')\n",
        "        plt.xlabel('Voronoi Area (µm^2)')\n",
        "        plt.ylabel('Probability')\n",
        "\n",
        "\n",
        "#plt.legend(exp['strain']+'_'+exp['date'])\n",
        "plt.show()"
      ],
      "metadata": {
        "id": "z5R-vyxXtFmY"
      },
      "execution_count": null,
      "outputs": []
    },
    {
      "cell_type": "markdown",
      "source": [
        "## STD vs. surface coverage"
      ],
      "metadata": {
        "id": "Sp5ILmkUqMB7"
      }
    },
    {
      "cell_type": "code",
      "source": [
        "# --Setup--\n",
        "\n",
        "# Define colors for each strain\n",
        "color_map = {'177': 'black', '232': 'deepskyblue', '459': 'darkorange'}\n",
        "\n",
        "# Define bins and labels for surface coverage\n",
        "bins = [0, 15, 40, 75]  # Define the edges of the bins\n",
        "bin_labels = [10, 30, 70]  # Labels for the bins\n",
        "\n",
        "# Add a new column to assign each point to a bin\n",
        "exp['surface_coverage_bin'] = pd.cut(exp['surface_coverage'], bins=bins, labels=bin_labels)"
      ],
      "metadata": {
        "id": "wTlFip__x1NB"
      },
      "execution_count": null,
      "outputs": []
    },
    {
      "cell_type": "code",
      "source": [
        "# Create the plot\n",
        "plt.figure(figsize=(8, 6))  # Optional: Adjust the figure size\n",
        "for strain in ['177', '232', '459']:\n",
        "    # Filter the data for the current strain\n",
        "    strain_data = exp[exp['strain'] == strain]\n",
        "\n",
        "    # Plot individual points with transparency\n",
        "    plt.scatter(strain_data['surface_coverage'], strain_data['area_hist_std'],\n",
        "                color=color_map[strain], alpha=0.5)\n",
        "\n",
        "    # Group by binned surface coverage and calculate the mean\n",
        "    grouped = strain_data.groupby('surface_coverage_bin')['area_hist_std'].mean()\n",
        "\n",
        "    # Plot the averages with a red contour\n",
        "    plt.scatter(bin_labels, grouped.values, color=color_map[strain], s=100, alpha=1,\n",
        "                edgecolors='black', linewidths=1.5, label=f'{strain}')\n",
        "\n",
        "# Add legend and labels\n",
        "plt.legend(bbox_to_anchor=(1.05, 1), loc='upper left')\n",
        "plt.xlabel('Surface coverage (%)')\n",
        "plt.ylabel(r'Standard deviation Voronoi Area ($\\mu m^2$)')\n",
        "plt.xlim([0, 85])\n",
        "plt.ylim([0, 27])\n",
        "\n",
        "# Save the figure\n",
        "plt.savefig('./figures/std_norm_area_plot.png', dpi=300, bbox_inches='tight')  # Save with high resolution\n",
        "\n",
        "# Show the plot\n",
        "plt.show()"
      ],
      "metadata": {
        "id": "XBQXRZVatLMT"
      },
      "execution_count": null,
      "outputs": []
    },
    {
      "cell_type": "code",
      "source": [
        "# Create the plot\n",
        "plt.figure(figsize=(8, 6))  # Optional: Adjust the figure size\n",
        "for strain in ['177', '232', '459']:\n",
        "    # Filter the data for the current strain\n",
        "    strain_data = exp[exp['strain'] == strain]\n",
        "\n",
        "    # Plot individual points with transparency\n",
        "    plt.scatter(strain_data['surface_coverage'], strain_data['area_hist_norm_cv'],\n",
        "                color=color_map[strain], alpha=0.5)\n",
        "\n",
        "    # Group by binned surface coverage and calculate the mean\n",
        "    grouped = strain_data.groupby('surface_coverage_bin')['area_hist_norm_cv'].mean()\n",
        "\n",
        "    # Plot the averages with a red contour\n",
        "    plt.scatter(bin_labels, grouped.values, color=color_map[strain], s=100, alpha=1,\n",
        "                edgecolors='black', linewidths=1.5, label=f'{strain}')\n",
        "\n",
        "# Add legend and labels\n",
        "plt.legend(bbox_to_anchor=(1.05, 1), loc='upper left')\n",
        "plt.xlabel('Surface coverage (%)')\n",
        "plt.ylabel(r'Coefficient of Variation Norm. Voronoi Area')\n",
        "plt.xlim([0, 85])\n",
        "plt.ylim([0, 0.9])\n",
        "\n",
        "# Save the figure\n",
        "plt.savefig('./figures/cv_norm_area_plot.png', dpi=300, bbox_inches='tight')  # Save with high resolution\n",
        "\n",
        "# Show the plot\n",
        "plt.show()"
      ],
      "metadata": {
        "id": "aW_2uEc2tW8m"
      },
      "execution_count": null,
      "outputs": []
    },
    {
      "cell_type": "code",
      "source": [
        "# Create the plot\n",
        "plt.figure(figsize=(8, 6))  # Optional: Adjust the figure size\n",
        "for strain in ['177', '232', '459']:\n",
        "    # Filter the data for the current strain\n",
        "    strain_data = exp[exp['strain'] == strain]\n",
        "\n",
        "    # Plot individual points with transparency\n",
        "    plt.scatter(strain_data['surface_coverage'], strain_data['area_hist_norm_max'],\n",
        "                color=color_map[strain], alpha=0.3)\n",
        "\n",
        "    # Group by binned surface coverage and calculate the mean\n",
        "    grouped = strain_data.groupby('surface_coverage_bin')['area_hist_norm_max'].mean()\n",
        "\n",
        "    # Plot the averages with a red contour\n",
        "    plt.scatter(bin_labels, grouped.values, color=color_map[strain], s=150, alpha=1,\n",
        "                edgecolors='black', linewidths=1.5, label=f'{strain}')\n",
        "\n",
        "# Add legend and labels\n",
        "plt.legend(bbox_to_anchor=(1.05, 1), loc='upper left')\n",
        "plt.xlabel('Surface coverage (%)')\n",
        "plt.ylabel(r'Max Norm. Voronoi Area')\n",
        "plt.xlim([0, 85])\n",
        "plt.ylim([2, 10])\n",
        "#plt.ylim([2, 50])\n",
        "\n",
        "# Save the figure\n",
        "plt.savefig('./figures/max_norm_area_plot.png', dpi=300, bbox_inches='tight')  # Save with high resolution\n",
        "\n",
        "# Show the plot\n",
        "plt.show()"
      ],
      "metadata": {
        "id": "f2Vz_FKItwz2"
      },
      "execution_count": null,
      "outputs": []
    },
    {
      "cell_type": "code",
      "source": [
        "# boxplot for surface coverage\n",
        "sns.boxplot(exp, x='surface_coverage', y='strain', hue='strain', palette=\"hls\")\n",
        "sns.stripplot(exp, x='surface_coverage', y='strain', size=4, color=\".3\")\n",
        "plt.show()\n",
        "\n",
        "# boxplot for std(voronoi)\n",
        "sns.boxplot(exp, x='area_hist_std', y='strain', hue='strain', palette=\"hls\")\n",
        "sns.stripplot(exp, x='area_hist_std', y='strain', size=4, color=\".3\")\n",
        "plt.show()"
      ],
      "metadata": {
        "id": "5sAvqX5Ht7UE"
      },
      "execution_count": null,
      "outputs": []
    },
    {
      "cell_type": "code",
      "source": [
        "# Initialize data\n",
        "data2plot = exp\n",
        "data2plot = data2plot.sort_values(by=['strain', 'surface_coverage'], axis=0, ascending=True)\n",
        "data2plot['bin_edges'] = [bin_edges[:-1] for _ in range (len(data2plot))]\n",
        "data2plot['bin_edges_norm'] = [bin_edges_norm[:-1] for _ in range (len(data2plot))]\n",
        "\n",
        "# Bin the surface coverage into categories\n",
        "bins = [0, 25, 60, 100]\n",
        "bins_label = ['Low', 'Medium', 'High']\n",
        "data2plot['surface_coverage_bin'] = pd.cut(data2plot['surface_coverage'], bins=bins, labels=bins_label)\n",
        "\n",
        "# Create a column for combined category\n",
        "data2plot['strain_surface_coverage'] = data2plot['strain'] + '_' + data2plot['surface_coverage_bin'].astype(str)\n",
        "\n",
        "data2plot"
      ],
      "metadata": {
        "id": "9sFGNjjoI9sa"
      },
      "execution_count": null,
      "outputs": []
    },
    {
      "cell_type": "markdown",
      "source": [
        "1. plot all replicate in gray + mean\n",
        "- area\n",
        "- area_norm\n",
        "\n",
        "one figure per strain, per surface coverage\n",
        "\n",
        "=> can be a FacetGrid (x=bin, y=counts)\n",
        "X = surface coverage category\n",
        "Y = strain"
      ],
      "metadata": {
        "id": "yj8uB-qBq55J"
      }
    },
    {
      "cell_type": "code",
      "source": [
        "# Custom function to draw each histogram and an overlay of the mean curve\n",
        "def plot_records_and_mean(x, y, **kwargs):\n",
        "  \"\"\"\n",
        "  Plots individual records and overlays a mean curve. The function handles both the case\n",
        "  where there is only one record and the case where there are multiple records. It also\n",
        "  allows for setting custom x-axis limits via keyword arguments.\n",
        "\n",
        "  Parameters:\n",
        "  ----------\n",
        "  x : list or pandas Series\n",
        "      List of x-coordinates for the records. If there is a single record, it can be a Series\n",
        "      of x-values. If there are multiple records, it should be a list of lists/arrays.\n",
        "  y : list or pandas Series\n",
        "      List of y-coordinates for the records. If there is a single record, it can be a Series\n",
        "      of y-values. If there are multiple records, it should be a list of lists/arrays.\n",
        "  **kwargs : dict, optional\n",
        "      Additional keyword arguments, including:\n",
        "      - 'xlim1' (int or float): The lower limit for the x-axis (optional).\n",
        "      - 'xlim2' (int or float): The upper limit for the x-axis (optional).\n",
        "\n",
        "  Returns:\n",
        "  -------\n",
        "  None\n",
        "      The function modifies the current matplotlib axis by plotting the individual records\n",
        "      and overlaying the mean curve for the given data.\n",
        "\n",
        "  Notes:\n",
        "  ------\n",
        "  - If the `x` or `y` inputs contain only one record, the plot will show the data\n",
        "    without aggregation, and the mean curve will correspond to the given record.\n",
        "  - If there are multiple records, the function will plot individual records as gray lines\n",
        "    and overlay a mean curve based on the aggregated data.\n",
        "  - The x-axis limits can be customized using `xlim1` and `xlim2`. If these are not provided,\n",
        "    the axis limits will not be adjusted.\n",
        "  \"\"\"\n",
        "\n",
        "  # Extracting xlim from kwargs if it is passed\n",
        "  xlim1 = kwargs.get('xlim1', None)\n",
        "  xlim2 = kwargs.get('xlim2', None)\n",
        "  return_values = kwargs.get('return_values', False)\n",
        "\n",
        "  ax = plt.gca()\n",
        "\n",
        "  if len(x)==1: # CASE 1: ONLY 1 DATA\n",
        "    x_mean = x.to_list()[0]\n",
        "    y_mean = y.to_list()[0]\n",
        "    ax.plot(x_mean, y_mean, color='red', linewidth=2, label=\"Mean Curve\")\n",
        "\n",
        "  else: #CASE 2: MORE THAN 1 DATA\n",
        "    # Plot individual records\n",
        "    for x_vals, y_vals in zip(x,y):\n",
        "      ax.plot(x_vals, y_vals, linestyle='-', color='gray', alpha=0.5)\n",
        "\n",
        "    # Compute mean data\n",
        "    x_flattened = [val for sublist in x for val in sublist]\n",
        "    x_mean = sorted(set(x_flattened))\n",
        "\n",
        "    # Calculate mean y-values for each unique x\n",
        "    y_mean = [\n",
        "        np.mean([y_vals[x_vals.index(pt)] for x_vals, y_vals in zip(x, y) if pt in x_vals])\n",
        "        for pt in x_mean\n",
        "    ]\n",
        "\n",
        "    # Plot the mean curve in blue\n",
        "    ax.plot(x_mean, y_mean, color='red', linewidth=1, label=\"Mean Curve\")\n",
        "\n",
        "    # Set x-axis limits if provided\n",
        "    if xlim1 is not None and xlim2 is not None:\n",
        "        ax.set_xlim([xlim1, xlim2])\n",
        "\n",
        "  # Return value of Mean Curve if specified\n",
        "  if return_values is not False:\n",
        "    return x_mean, y_mean"
      ],
      "metadata": {
        "id": "btcAAWYiEAD_"
      },
      "execution_count": null,
      "outputs": []
    },
    {
      "cell_type": "code",
      "source": [
        "# Initialize the FacetGrid object\n",
        "g = sns.FacetGrid(data2plot, col='strain_surface_coverage', col_wrap=3, sharex=True, sharey=True)\n",
        "\n",
        "# Draw on FacetGrid\n",
        "g.map(plot_records_and_mean, 'bin_edges', 'area_hist', xlim1=0, xlim2=40)"
      ],
      "metadata": {
        "id": "xGKgHDHDi0ka"
      },
      "execution_count": null,
      "outputs": []
    },
    {
      "cell_type": "code",
      "source": [
        "# Initialize the FacetGrid object\n",
        "g = sns.FacetGrid(data2plot, col='strain_surface_coverage', col_wrap=3, sharex=True, sharey=True)\n",
        "\n",
        "# Draw on FacetGrid\n",
        "g.map(plot_records_and_mean, 'bin_edges_norm', 'area_hist_norm', xlim1=0, xlim2=1)"
      ],
      "metadata": {
        "id": "Yp91m_JNjXp9"
      },
      "execution_count": null,
      "outputs": []
    },
    {
      "cell_type": "markdown",
      "source": [
        "2. mean histogram with strains combines\n",
        "- area\n",
        "- area_norm\n",
        "\n",
        "one figure per surface coverage"
      ],
      "metadata": {
        "id": "sRc8zjD6rKxZ"
      }
    },
    {
      "cell_type": "code",
      "source": [
        "# Compute the mean area_hist for each strain and surface_coverage_bin\n",
        "mean_data = data2plot.groupby(['surface_coverage_bin', 'strain']).agg(\n",
        "    bin_edges=('bin_edges', 'first'),  # Take the first bin_edges for each group\n",
        "    area_hist=('area_hist', lambda x: np.mean(np.array(list(x.tolist())), axis=0))  # Mean of area_hist\n",
        "    ).reset_index()\n",
        "\n",
        "mean_data"
      ],
      "metadata": {
        "id": "mNii_KaE3ApL"
      },
      "execution_count": null,
      "outputs": []
    },
    {
      "cell_type": "code",
      "source": [
        "# --per surface coverage, strain overlay--\n",
        "\n",
        "# Initialize the FacetGrid object with the surface_coverage_bin as columns\n",
        "g = sns.FacetGrid(mean_data, col='surface_coverage_bin', col_wrap=3, height=4)\n",
        "\n",
        "mean_data[mean_data['surface_coverage_bin'] =='Low']\n",
        "\n",
        "# Plot the mean value of area_hist for each strain within each facet\n",
        "def plot_mean_hist(x, y, **kwargs):\n",
        "    for n in range(len(x)):\n",
        "      plt.plot(x.iloc[n], y.iloc[n])\n",
        "      #plt.yscale('log')\n",
        "\n",
        "# Map the custom plot function onto the FacetGrid\n",
        "g.map(plot_mean_hist, 'bin_edges', 'area_hist')\n",
        "plt.legend(mean_data['strain'].unique())"
      ],
      "metadata": {
        "id": "_pBg4BYTjNwd"
      },
      "execution_count": null,
      "outputs": []
    },
    {
      "cell_type": "code",
      "source": [
        "# --per strain, surface coverage overlay--\n",
        "\n",
        "# Initialize the FacetGrid object with the surface_coverage_bin as columns\n",
        "g = sns.FacetGrid(mean_data, col='strain', col_wrap=5, height=4)\n",
        "\n",
        "# mean_data[mean_data['surface_coverage_bin'] =='Low']\n",
        "\n",
        "# Plot the mean value of area_hist for each strain within each facet\n",
        "def plot_mean_hist(x, y, **kwargs):\n",
        "    for n in range(len(x)):\n",
        "      plt.plot(x.iloc[n], y.iloc[n])\n",
        "      #plt.yscale('log')\n",
        "\n",
        "# Map the custom plot function onto the FacetGrid\n",
        "g.map(plot_mean_hist, 'bin_edges', 'area_hist')\n",
        "plt.legend(mean_data['surface_coverage_bin'].unique())"
      ],
      "metadata": {
        "id": "9Mi0NGLPyg-S"
      },
      "execution_count": null,
      "outputs": []
    },
    {
      "cell_type": "markdown",
      "source": [
        "3. boxplot\n",
        "\n",
        "- y = STD(area)\n",
        "- x = strain with 3 sub box (one for each surface coverage)"
      ],
      "metadata": {
        "id": "I5I-4WjXru0x"
      }
    },
    {
      "cell_type": "code",
      "source": [
        "# Create the boxplot\n",
        "sns.boxplot(data=data2plot, x='strain_surface_coverage', y='area_hist_std')\n",
        "sns.stripplot(data2plot, x='strain_surface_coverage', y='area_hist_std', size=4, color=\".3\")"
      ],
      "metadata": {
        "id": "T4edMF25st_d"
      },
      "execution_count": null,
      "outputs": []
    },
    {
      "cell_type": "code",
      "source": [],
      "metadata": {
        "id": "42nOeYDCyVa3"
      },
      "execution_count": null,
      "outputs": []
    }
  ]
}