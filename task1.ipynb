{
  "nbformat": 4,
  "nbformat_minor": 0,
  "metadata": {
    "colab": {
      "private_outputs": true,
      "provenance": [],
      "mount_file_id": "1s-Q0MfevpFo1g4ncT2Q3D_xxE0W5y0bJ",
      "authorship_tag": "ABX9TyN+gHLXveOJ2wb9hJUShq4T"
    },
    "kernelspec": {
      "name": "python3",
      "display_name": "Python 3"
    },
    "language_info": {
      "name": "python"
    }
  },
  "cells": [
    {
      "cell_type": "markdown",
      "source": [
        "# Setup"
      ],
      "metadata": {
        "id": "q8JdjQhfSYHz"
      }
    },
    {
      "cell_type": "code",
      "execution_count": null,
      "metadata": {
        "id": "kj4XDax_RwAt"
      },
      "outputs": [],
      "source": [
        "#import packages\n",
        "\n",
        "import numpy as np\n",
        "import pandas as pd\n",
        "import matplotlib as plt\n",
        "import seaborn as sns"
      ]
    },
    {
      "cell_type": "code",
      "source": [
        "pathfile = '/Task1_files/'\n",
        "file1 = '240614_177_10pc_frame_0_voronoi_areas_microns'\n",
        "file2 = '240614_177_10pc_surface_coverage_and_density'\n",
        "\n",
        "filename = pathfile+file1\n",
        "df = pd.read_csv(filename)"
      ],
      "metadata": {
        "id": "XWs3Y-LbTCU8"
      },
      "execution_count": null,
      "outputs": []
    },
    {
      "cell_type": "code",
      "source": [],
      "metadata": {
        "id": "9j4AAbZMTKtv"
      },
      "execution_count": null,
      "outputs": []
    }
  ]
}