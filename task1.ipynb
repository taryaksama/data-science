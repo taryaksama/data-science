{
  "nbformat": 4,
  "nbformat_minor": 0,
  "metadata": {
    "colab": {
      "private_outputs": true,
      "provenance": [],
      "mount_file_id": "1s-Q0MfevpFo1g4ncT2Q3D_xxE0W5y0bJ",
      "authorship_tag": "ABX9TyMjk5YFMNa8AoUJpvxr3QgV",
      "include_colab_link": true
    },
    "kernelspec": {
      "name": "python3",
      "display_name": "Python 3"
    },
    "language_info": {
      "name": "python"
    }
  },
  "cells": [
    {
      "cell_type": "markdown",
      "metadata": {
        "id": "view-in-github",
        "colab_type": "text"
      },
      "source": [
        "<a href=\"https://colab.research.google.com/github/taryaksama/data-science/blob/master/task1.ipynb\" target=\"_parent\"><img src=\"https://colab.research.google.com/assets/colab-badge.svg\" alt=\"Open In Colab\"/></a>"
      ]
    },
    {
      "cell_type": "markdown",
      "source": [
        "# A. Setup"
      ],
      "metadata": {
        "id": "q8JdjQhfSYHz"
      }
    },
    {
      "cell_type": "code",
      "execution_count": null,
      "metadata": {
        "id": "kj4XDax_RwAt"
      },
      "outputs": [],
      "source": [
        "#import packages\n",
        "import os\n",
        "import numpy as np\n",
        "import pandas as pd\n",
        "import matplotlib.pyplot as plt\n",
        "import seaborn as sns"
      ]
    },
    {
      "cell_type": "code",
      "source": [
        "# Clone GitHub repository\n",
        "!git clone https://github.com/taryaksama/data-science/\n",
        "%cd data-science"
      ],
      "metadata": {
        "id": "QWK2mN8CVl-m"
      },
      "execution_count": null,
      "outputs": []
    },
    {
      "cell_type": "code",
      "source": [
        "# pathfile = 'Task1_files/'\n",
        "\n",
        "# # ***TO BE REMOVED BECAUSE INTEGRATED IN FUNCTION\n",
        "# file1 = '240614_177_10pc_frame_0_voronoi_areas_microns.csv'\n",
        "# file2 = '240614_177_10pc_surface_coverage_and_density.csv'\n",
        "# filename1 = pathfile+file1\n",
        "# filename2 = pathfile+file2"
      ],
      "metadata": {
        "id": "XWs3Y-LbTCU8"
      },
      "execution_count": null,
      "outputs": []
    },
    {
      "cell_type": "markdown",
      "source": [
        "# B. Experimental plan\n",
        "\n",
        "provide a dataframe with experimental plan\n",
        "- n_exp\n",
        "- date\n",
        "- strain\n",
        "- replica\n",
        "- file_adress"
      ],
      "metadata": {
        "id": "0srYMOgEpdwH"
      }
    },
    {
      "cell_type": "code",
      "source": [
        "path = './data-science' #address of working directory\n",
        "\n",
        "# create a DataFrame with all experiments data\n",
        "folder_list = [f for f in os.listdir(path) if (os.path.isdir(os.path.join(path, f)) and f[:6].isdigit())]\n",
        "exp = pd.DataFrame(folder_list, columns=['folderpath'])"
      ],
      "metadata": {
        "id": "cf6HjDVy-KC7"
      },
      "execution_count": null,
      "outputs": []
    },
    {
      "cell_type": "code",
      "source": [
        "exp_date = [exp.folderpath[i][:6] for i in range(len(exp.folderpath))]\n",
        "exp_strain = [exp.folderpath[i][7:10] for i in range(len(exp.folderpath))]\n",
        "\n",
        "exp['date'] = exp_date\n",
        "exp['strain'] = exp_strain"
      ],
      "metadata": {
        "id": "LeKXheOfBN8j"
      },
      "execution_count": null,
      "outputs": []
    },
    {
      "cell_type": "markdown",
      "source": [
        "# 1. Histogram Area"
      ],
      "metadata": {
        "id": "isiUFdNJXkVr"
      }
    },
    {
      "cell_type": "markdown",
      "source": [
        "## Associated function"
      ],
      "metadata": {
        "id": "Ybg0k_6yl-U6"
      }
    },
    {
      "cell_type": "code",
      "source": [
        "bin_edges = list(range(100))\n",
        "bin_edges_norm = list(np.linspace(0,1,11))\n",
        "\n",
        "def get_area_hist(path, filename, n_strain=0, n_replica=0):\n",
        "  df = pd.read_csv(path+filename)\n",
        "  df.columns = ['cellid', 'area', 'area_mean', 'area_norm']\n",
        "\n",
        "  counts, _, _ = plt.hist(df['area'], bins=bin_edges, density=True)\n",
        "  counts_norm, _, _ = plt.hist(df['area_norm'], bins=bin_edges_norm, density=True)\n",
        "  plt.close()\n",
        "\n",
        "  return counts, counts_norm, np.std(counts), np.std(counts_norm)"
      ],
      "metadata": {
        "id": "ZVcAXAMSl9Iz"
      },
      "execution_count": null,
      "outputs": []
    },
    {
      "cell_type": "markdown",
      "source": [
        "## Loop for all experiments"
      ],
      "metadata": {
        "id": "AGkmvCh4Xxn5"
      }
    },
    {
      "cell_type": "code",
      "source": [
        "# get histogram from all experiments\n",
        "exp['area_hist'] = [range(0,len(bin_edges)-1) for _ in range(len(exp))]\n",
        "exp['area_hist_norm'] = [[]*len(bin_edges) for _ in range(len(exp))]\n",
        "exp['area_hist_std'] = [[]*len(bin_edges) for _ in range(len(exp))]\n",
        "exp['area_hist_norm_std'] = [[]*len(bin_edges) for _ in range(len(exp))]\n",
        "\n",
        "\n",
        "for n in range(len(exp)):\n",
        "  path = './data-science/' + exp.folderpath[n] + '/tessellation/'\n",
        "  filename = 'frame_0_voronoi_areas_microns.csv'\n",
        "\n",
        "  a, b, c, d = get_area_hist(path, filename)\n",
        "\n",
        "  exp.at[n, 'area_hist'] = a\n",
        "  exp.at[n, 'area_hist_norm'] = b\n",
        "  exp.at[n, 'area_hist_std'] = c\n",
        "  exp.at[n, 'area_hist_norm_std'] = d"
      ],
      "metadata": {
        "id": "ZYLKCxzoI8Ao"
      },
      "execution_count": null,
      "outputs": []
    },
    {
      "cell_type": "code",
      "source": [
        "# Plot histogram\n",
        "\n",
        "for n in range(len(exp)):\n",
        "  plt.plot(bin_edges[:-1], exp.at[n, 'area_hist'], label='area')\n",
        "\n",
        "plt.show()"
      ],
      "metadata": {
        "id": "CJL9EHImWxiD"
      },
      "execution_count": null,
      "outputs": []
    },
    {
      "cell_type": "markdown",
      "source": [
        "# 2. Surface Coverage"
      ],
      "metadata": {
        "id": "WnQ4_u08j7Ag"
      }
    },
    {
      "cell_type": "code",
      "source": [
        "# get surface coverage from all experiments\n",
        "exp['surface_coverage'] = [range(0,len(bin_edges)-1) for _ in range(len(exp))]\n",
        "\n",
        "for n in range(len(exp)):\n",
        "  path = './data-science/' + exp.folderpath[n] + '/surface_coverage/'\n",
        "  filename = 'surface_coverage_and_density.csv'\n",
        "  df = pd.read_csv(path+filename)\n",
        "\n",
        "  exp.at[n, 'surface_coverage'] = float(df.iloc[:,1])"
      ],
      "metadata": {
        "id": "GgdDeh6mYtHG"
      },
      "execution_count": null,
      "outputs": []
    },
    {
      "cell_type": "code",
      "source": [],
      "metadata": {
        "id": "KZ7iU8NUZRZR"
      },
      "execution_count": null,
      "outputs": []
    }
  ]
}