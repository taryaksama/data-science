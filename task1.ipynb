{
  "nbformat": 4,
  "nbformat_minor": 0,
  "metadata": {
    "colab": {
      "private_outputs": true,
      "provenance": [],
      "mount_file_id": "1s-Q0MfevpFo1g4ncT2Q3D_xxE0W5y0bJ",
      "authorship_tag": "ABX9TyPUiQuKTKn0diUMDUjuOXiA",
      "include_colab_link": true
    },
    "kernelspec": {
      "name": "python3",
      "display_name": "Python 3"
    },
    "language_info": {
      "name": "python"
    }
  },
  "cells": [
    {
      "cell_type": "markdown",
      "metadata": {
        "id": "view-in-github",
        "colab_type": "text"
      },
      "source": [
        "<a href=\"https://colab.research.google.com/github/taryaksama/data-science/blob/master/task1.ipynb\" target=\"_parent\"><img src=\"https://colab.research.google.com/assets/colab-badge.svg\" alt=\"Open In Colab\"/></a>"
      ]
    },
    {
      "cell_type": "markdown",
      "source": [
        "# A. Setup"
      ],
      "metadata": {
        "id": "q8JdjQhfSYHz"
      }
    },
    {
      "cell_type": "code",
      "execution_count": null,
      "metadata": {
        "id": "kj4XDax_RwAt"
      },
      "outputs": [],
      "source": [
        "#import packages\n",
        "import os\n",
        "import numpy as np\n",
        "import pandas as pd\n",
        "import matplotlib.pyplot as plt\n",
        "import seaborn as sns"
      ]
    },
    {
      "cell_type": "code",
      "source": [
        "# Clone GitHub repository\n",
        "!git clone https://github.com/taryaksama/data-science/\n",
        "%cd data-science"
      ],
      "metadata": {
        "id": "QWK2mN8CVl-m"
      },
      "execution_count": null,
      "outputs": []
    },
    {
      "cell_type": "markdown",
      "source": [
        "# B. Experimental plan\n",
        "\n",
        "provide a dataframe with experimental plan\n",
        "- n_exp\n",
        "- date\n",
        "- strain\n",
        "- replica\n",
        "- file_adress"
      ],
      "metadata": {
        "id": "0srYMOgEpdwH"
      }
    },
    {
      "cell_type": "code",
      "source": [
        "path = '.' #address of working directory\n",
        "\n",
        "# create a DataFrame with all experiments data\n",
        "folder_list = [f for f in os.listdir(path) if (os.path.isdir(os.path.join(path, f)) and f[:6].isdigit())]\n",
        "exp = pd.DataFrame(folder_list, columns=['folderpath'])"
      ],
      "metadata": {
        "id": "cf6HjDVy-KC7"
      },
      "execution_count": null,
      "outputs": []
    },
    {
      "cell_type": "code",
      "source": [
        "exp_date = [exp.folderpath[i][:6] for i in range(len(exp.folderpath))]\n",
        "exp_strain = [exp.folderpath[i][7:10] for i in range(len(exp.folderpath))]\n",
        "\n",
        "exp['date'] = exp_date\n",
        "exp['strain'] = exp_strain"
      ],
      "metadata": {
        "id": "LeKXheOfBN8j"
      },
      "execution_count": null,
      "outputs": []
    },
    {
      "cell_type": "markdown",
      "source": [
        "# 1. Histogram Area"
      ],
      "metadata": {
        "id": "isiUFdNJXkVr"
      }
    },
    {
      "cell_type": "markdown",
      "source": [
        "## Associated function"
      ],
      "metadata": {
        "id": "Ybg0k_6yl-U6"
      }
    },
    {
      "cell_type": "code",
      "source": [
        "bin_edges = list(range(100))\n",
        "bin_edges_norm = list(np.linspace(0,1,11))\n",
        "\n",
        "def get_area_hist(path, filename, n_strain=0, n_replica=0):\n",
        "  df = pd.read_csv(path+filename)\n",
        "  df.columns = ['cellid', 'area', 'area_mean', 'area_norm']\n",
        "\n",
        "  counts, _, _ = plt.hist(df['area'], bins=bin_edges, density=True)\n",
        "  counts_norm, _, _ = plt.hist(df['area_norm'], bins=bin_edges_norm, density=True)\n",
        "  plt.close()\n",
        "\n",
        "  return counts, counts_norm, np.std(counts), np.std(counts_norm)"
      ],
      "metadata": {
        "id": "ZVcAXAMSl9Iz"
      },
      "execution_count": null,
      "outputs": []
    },
    {
      "cell_type": "markdown",
      "source": [
        "## Loop for all experiments"
      ],
      "metadata": {
        "id": "AGkmvCh4Xxn5"
      }
    },
    {
      "cell_type": "code",
      "source": [
        "# get histogram from all experiments\n",
        "exp['area_hist'] = [[] for _ in range(len(exp))]\n",
        "exp['area_hist_norm'] = [[] for _ in range(len(exp))]\n",
        "exp['area_hist_std'] = [[] for _ in range(len(exp))]\n",
        "exp['area_hist_norm_std'] = [[] for _ in range(len(exp))]\n",
        "\n",
        "\n",
        "for n in range(len(exp)):\n",
        "  path = './' + exp.folderpath[n] + '/tessellation/'\n",
        "  filename = 'frame_0_voronoi_areas_microns.csv'\n",
        "\n",
        "  a, b, c, d = get_area_hist(path, filename)\n",
        "\n",
        "  exp.at[n, 'area_hist'] = a\n",
        "  exp.at[n, 'area_hist_norm'] = b\n",
        "  exp.at[n, 'area_hist_std'] = c\n",
        "  exp.at[n, 'area_hist_norm_std'] = d"
      ],
      "metadata": {
        "id": "ZYLKCxzoI8Ao"
      },
      "execution_count": null,
      "outputs": []
    },
    {
      "cell_type": "markdown",
      "source": [
        "# 2. Surface Coverage"
      ],
      "metadata": {
        "id": "WnQ4_u08j7Ag"
      }
    },
    {
      "cell_type": "code",
      "source": [
        "# get surface coverage from all experiments\n",
        "exp['surface_coverage'] = [range(0,len(bin_edges)-1) for _ in range(len(exp))]\n",
        "\n",
        "for n in range(len(exp)):\n",
        "  path = './' + exp.folderpath[n] + '/surface_coverage/'\n",
        "  filename = 'surface_coverage_and_density.csv'\n",
        "  df = pd.read_csv(path+filename)\n",
        "\n",
        "  exp.at[n, 'surface_coverage'] = float(df.iloc[:,1])"
      ],
      "metadata": {
        "id": "GgdDeh6mYtHG"
      },
      "execution_count": null,
      "outputs": []
    },
    {
      "cell_type": "markdown",
      "source": [
        "# C. Plots"
      ],
      "metadata": {
        "id": "fMUZYoRqdbm3"
      }
    },
    {
      "cell_type": "markdown",
      "source": [
        "## Area histograms"
      ],
      "metadata": {
        "id": "23K3abUMdrxh"
      }
    },
    {
      "cell_type": "code",
      "source": [
        "data_plot = pd.DataFrame([], columns=['x', 'y'])\n",
        "data_plot['x'] = [bin_edges[:-1] for _ in range (len(exp))]\n",
        "data_plot['y'] = exp['area_hist'] # change depending on column"
      ],
      "metadata": {
        "id": "OQ13hL8hlDjk"
      },
      "execution_count": null,
      "outputs": []
    },
    {
      "cell_type": "code",
      "source": [
        "# Plot histogram\n",
        "\n",
        "for n in range(len(data_plot)):\n",
        "  plt.plot(data_plot.at[n, 'x'], data_plot.at[n, 'y'])\n",
        "\n",
        "plt.legend(exp['strain']+'_'+exp['date'])\n",
        "plt.show()"
      ],
      "metadata": {
        "id": "KZ7iU8NUZRZR"
      },
      "execution_count": null,
      "outputs": []
    },
    {
      "cell_type": "code",
      "source": [
        "# FacetGrid representation\n",
        "\n",
        "# Expand the DataFrame for FacetGrid compatibility\n",
        "expanded_data_plot = pd.DataFrame({\n",
        "    'row_id': data_plot.index.repeat(data_plot['x'].str.len()),  # Repeat row index for each (x, y) pair\n",
        "    'x': [val for sublist in data_plot['x'] for val in sublist],  # Flatten 'x'\n",
        "    'y': [val for sublist in data_plot['y'] for val in sublist]   # Flatten 'y'\n",
        "})\n",
        "\n",
        "# Initialize the FacetGrid object\n",
        "pal = sns.cubehelix_palette(10, rot=-.25, light=.7)\n",
        "g = sns.FacetGrid(expanded_data_plot, row='row_id', aspect=15, height=.5, palette=pal)\n",
        "\n",
        "# Draw the densities in a few steps\n",
        "g.map(plt.plot, 'x', 'y')\n",
        "g.map(plt.fill_between, 'x', 'y', alpha=1)\n",
        "\n",
        "# Set the subplots to overlap\n",
        "g.figure.subplots_adjust(hspace=-.25)\n",
        "\n",
        "# Remove axes details that don't play well with overlap\n",
        "g.set_titles(\"\")\n",
        "g.set(yticks=[], ylabel=\"\")\n",
        "g.despine(bottom=True, left=True)"
      ],
      "metadata": {
        "id": "eY6xFwU-dzSr"
      },
      "execution_count": null,
      "outputs": []
    },
    {
      "cell_type": "markdown",
      "source": [
        "## STD vs. surface coverage"
      ],
      "metadata": {
        "id": "Sp5ILmkUqMB7"
      }
    },
    {
      "cell_type": "code",
      "source": [
        "## for each strain\n",
        "\n",
        "for strain in exp['strain'].unique():\n",
        "  data_plot = pd.DataFrame([], columns=['x', 'y'])\n",
        "  data_plot['x'] = exp['surface_coverage']\n",
        "  data_plot['y'] = exp['area_hist_std'][exp['strain'] == strain]\n",
        "\n",
        "  plt.plot(data_plot['x'], data_plot['y'], marker='o', linestyle='none')\n",
        "\n",
        "plt.legend(exp['strain'].unique())\n",
        "plt.xlabel('Surface coverage')\n",
        "plt.ylabel('Area Standard deviation')\n",
        "plt.show()"
      ],
      "metadata": {
        "id": "sjxm7BBOsdap"
      },
      "execution_count": null,
      "outputs": []
    },
    {
      "cell_type": "code",
      "source": [
        "# boxplot for surface coverage\n",
        "sns.boxplot(exp, x='surface_coverage', y='strain', hue='strain', palette=\"hls\")\n",
        "sns.stripplot(exp, x='surface_coverage', y='strain', size=4, color=\".3\")\n",
        "plt.show()\n",
        "\n",
        "# boxplot for std(voronoi)\n",
        "sns.boxplot(exp, x='area_hist_std', y='strain', hue='strain', palette=\"hls\")\n",
        "sns.stripplot(exp, x='area_hist_std', y='strain', size=4, color=\".3\")\n",
        "plt.show()"
      ],
      "metadata": {
        "id": "5sAvqX5Ht7UE"
      },
      "execution_count": null,
      "outputs": []
    },
    {
      "cell_type": "markdown",
      "source": [
        "## per surface coverage"
      ],
      "metadata": {
        "id": "teOcCVX4quXn"
      }
    },
    {
      "cell_type": "markdown",
      "source": [
        "1. plot all replicate in gray + mean\n",
        "- area\n",
        "- area_norm\n",
        "\n",
        "one figure per strain, per surface coverage"
      ],
      "metadata": {
        "id": "yj8uB-qBq55J"
      }
    },
    {
      "cell_type": "markdown",
      "source": [
        "2. mean histogram with strains combines\n",
        "- area\n",
        "- area_norm\n",
        "\n",
        "one figure per surface coverage"
      ],
      "metadata": {
        "id": "sRc8zjD6rKxZ"
      }
    },
    {
      "cell_type": "markdown",
      "source": [
        "3. boxplot\n",
        "\n",
        "- y = STD(area)\n",
        "- x = strain with 3 sub box (one for each surface coverage)"
      ],
      "metadata": {
        "id": "I5I-4WjXru0x"
      }
    },
    {
      "cell_type": "code",
      "source": [
        "data2plot = exp\n",
        "\n",
        "# Bin the surface coverage into categories\n",
        "bins = [0, 25, 60, 100]\n",
        "bins_label = ['Low', 'Medium', 'High']\n",
        "data2plot['surface_coverage_bin'] = pd.cut(data2plot['surface_coverage'], bins=bins, labels=bins_label)\n",
        "\n",
        "# Create a column for combined category\n",
        "data2plot['strain_surface_coverage'] = data2plot['strain'] + '_' + data2plot['surface_coverage_bin'].astype(str)\n",
        "data2plot = data2plot.sort_values(by='strain_surface_coverage', axis=0, ascending=True)\n",
        "\n",
        "# Create the boxplot\n",
        "sns.boxplot(data=data2plot, x='strain_surface_coverage', y='area_hist_std')\n",
        "sns.stripplot(exp, x='strain_surface_coverage', y='area_hist_std', size=4, color=\".3\")\n",
        "plt.show()"
      ],
      "metadata": {
        "id": "T4edMF25st_d"
      },
      "execution_count": null,
      "outputs": []
    },
    {
      "cell_type": "code",
      "source": [],
      "metadata": {
        "id": "pKfUK0_-s7Gf"
      },
      "execution_count": null,
      "outputs": []
    }
  ]
}