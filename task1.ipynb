{
  "nbformat": 4,
  "nbformat_minor": 0,
  "metadata": {
    "colab": {
      "private_outputs": true,
      "provenance": [],
      "mount_file_id": "1s-Q0MfevpFo1g4ncT2Q3D_xxE0W5y0bJ",
      "authorship_tag": "ABX9TyM/KcrPFf554muaWAjdChKw",
      "include_colab_link": true
    },
    "kernelspec": {
      "name": "python3",
      "display_name": "Python 3"
    },
    "language_info": {
      "name": "python"
    }
  },
  "cells": [
    {
      "cell_type": "markdown",
      "metadata": {
        "id": "view-in-github",
        "colab_type": "text"
      },
      "source": [
        "<a href=\"https://colab.research.google.com/github/taryaksama/data-science/blob/master/task1.ipynb\" target=\"_parent\"><img src=\"https://colab.research.google.com/assets/colab-badge.svg\" alt=\"Open In Colab\"/></a>"
      ]
    },
    {
      "cell_type": "markdown",
      "source": [
        "# Setup"
      ],
      "metadata": {
        "id": "q8JdjQhfSYHz"
      }
    },
    {
      "cell_type": "code",
      "execution_count": null,
      "metadata": {
        "id": "kj4XDax_RwAt"
      },
      "outputs": [],
      "source": [
        "#import packages\n",
        "import numpy as np\n",
        "import pandas as pd\n",
        "import matplotlib.pyplot as plt\n",
        "import seaborn as sns"
      ]
    },
    {
      "cell_type": "code",
      "source": [
        "# Clone GitHub repository\n",
        "!git clone https://github.com/taryaksama/data-science/\n",
        "%cd data-science"
      ],
      "metadata": {
        "id": "QWK2mN8CVl-m"
      },
      "execution_count": null,
      "outputs": []
    },
    {
      "cell_type": "code",
      "source": [
        "pathfile = 'Task1_files/'\n",
        "\n",
        "# ***TO BE REMOVED BECAUSE INTEGRATED IN FUNCTION\n",
        "file1 = '240614_177_10pc_frame_0_voronoi_areas_microns.csv'\n",
        "file2 = '240614_177_10pc_surface_coverage_and_density.csv'\n",
        "filename1 = pathfile+file1\n",
        "filename2 = pathfile+file2"
      ],
      "metadata": {
        "id": "XWs3Y-LbTCU8"
      },
      "execution_count": null,
      "outputs": []
    },
    {
      "cell_type": "markdown",
      "source": [
        "# 0. Experimental plan\n",
        "\n",
        "provide a dataframe with experimental plan\n",
        "- n_exp\n",
        "- date\n",
        "- strain\n",
        "- replica\n",
        "- file_adress"
      ],
      "metadata": {
        "id": "0srYMOgEpdwH"
      }
    },
    {
      "cell_type": "markdown",
      "source": [
        "# 1. Histogram Area"
      ],
      "metadata": {
        "id": "isiUFdNJXkVr"
      }
    },
    {
      "cell_type": "code",
      "source": [
        "# load dataset (***TO BE REMOVED BECAUSE INTEGRATED IN FUNCTION)\n",
        "df1 = pd.read_csv(filename1)\n",
        "df1.columns = ['cellid', 'area', 'area_mean', 'area_norm']\n",
        "df1"
      ],
      "metadata": {
        "id": "Zck8sa4ek5nV"
      },
      "execution_count": null,
      "outputs": []
    },
    {
      "cell_type": "code",
      "source": [
        "# get counts of histogram\n",
        "bin_edges = list(range(100))\n",
        "bin_edges_norm = list(np.linspace(0,1,11))\n",
        "\n",
        "counts, _, _ = plt.hist(df['area'], bins=bin_edges, density=True)\n",
        "counts_norm, _, _ = plt.hist(df['area_norm'], bins=bin_edges_norm, density=True)\n",
        "plt.close()"
      ],
      "metadata": {
        "id": "MNXJ8cAwW8Eb"
      },
      "execution_count": null,
      "outputs": []
    },
    {
      "cell_type": "code",
      "source": [
        "# display histogram\n",
        "fig, axes = plt.subplots(1,2, figsize=(10, 5))\n",
        "sns.despine(f)\n",
        "\n",
        "## area\n",
        "sns.histplot(df['area'], bins=bin_edges, stat='density', element='poly', alpha=0.5, ax=axes[0])\n",
        "axes[0].set_title('Area')\n",
        "\n",
        "## normalized area\n",
        "sns.histplot(df['area_norm'], bins=bin_edges_norm, stat='density', element='poly', alpha=0.5, ax=axes[1])\n",
        "axes[1].set_title('Normalized Area')"
      ],
      "metadata": {
        "id": "jhzIJT9ndzA4"
      },
      "execution_count": null,
      "outputs": []
    },
    {
      "cell_type": "markdown",
      "source": [
        "## Associated function"
      ],
      "metadata": {
        "id": "Ybg0k_6yl-U6"
      }
    },
    {
      "cell_type": "code",
      "source": [
        "bin_edges = list(range(100))\n",
        "bin_edges_norm = list(np.linspace(0,1,11))\n",
        "\n",
        "def get_area_hist(path, filename, n_strain=0, n_replica=0):\n",
        "  df = pd.read_csv(path+filename)\n",
        "  df.columns = ['cellid', 'area', 'area_mean', 'area_norm']\n",
        "\n",
        "  counts, _, _ = plt.hist(df['area'], bins=bin_edges, density=True)\n",
        "  counts_norm, _, _ = plt.hist(df['area_norm'], bins=bin_edges_norm, density=True)\n",
        "  plt.close()\n",
        "\n",
        "  return counts, counts_norm, np.std(counts), np.std(counts_norm)\n",
        "\n",
        "# a, b, c, d = get_area_hist(pathfile, file1)\n",
        "# print(c)"
      ],
      "metadata": {
        "id": "ZVcAXAMSl9Iz"
      },
      "execution_count": null,
      "outputs": []
    },
    {
      "cell_type": "markdown",
      "source": [
        "# 2. Surface Coverage"
      ],
      "metadata": {
        "id": "WnQ4_u08j7Ag"
      }
    },
    {
      "cell_type": "code",
      "source": [
        "# load dataset\n",
        "\n",
        "df2 = pd.read_csv(filename2)\n",
        "df2.columns = ['frame', 'coverage', 'cell_density_px', 'cell_density_um']\n",
        "df2"
      ],
      "metadata": {
        "id": "1BbIEmWWj0BX"
      },
      "execution_count": null,
      "outputs": []
    },
    {
      "cell_type": "markdown",
      "source": [
        "# ALL TOGETHER"
      ],
      "metadata": {
        "id": "3MUTmCyKp6Qo"
      }
    },
    {
      "cell_type": "markdown",
      "source": [
        "- step 1. get experimental matrix\n",
        "- step 2. for each experiment, compute\n",
        "  - hist\n",
        "  - area\n",
        "  - surface coverage\n",
        "- step 3. pull it regarding features\n",
        "  - strain"
      ],
      "metadata": {
        "id": "F4dtWfl0p_Ke"
      }
    },
    {
      "cell_type": "code",
      "source": [
        "#\n",
        "# for i in len(exp_matrix):\n",
        "  # exp_matrix[i].append(get_area_hist(pathfile, exp_matrix.file[i]))"
      ],
      "metadata": {
        "id": "A_LhEhN_qmta"
      },
      "execution_count": null,
      "outputs": []
    }
  ]
}