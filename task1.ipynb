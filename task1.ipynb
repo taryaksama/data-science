{
  "nbformat": 4,
  "nbformat_minor": 0,
  "metadata": {
    "colab": {
      "private_outputs": true,
      "provenance": [],
      "mount_file_id": "1s-Q0MfevpFo1g4ncT2Q3D_xxE0W5y0bJ",
      "authorship_tag": "ABX9TyNmjc2Tf21XvuDCrAlVK92E",
      "include_colab_link": true
    },
    "kernelspec": {
      "name": "python3",
      "display_name": "Python 3"
    },
    "language_info": {
      "name": "python"
    }
  },
  "cells": [
    {
      "cell_type": "markdown",
      "metadata": {
        "id": "view-in-github",
        "colab_type": "text"
      },
      "source": [
        "<a href=\"https://colab.research.google.com/github/taryaksama/data-science/blob/master/task1.ipynb\" target=\"_parent\"><img src=\"https://colab.research.google.com/assets/colab-badge.svg\" alt=\"Open In Colab\"/></a>"
      ]
    },
    {
      "cell_type": "markdown",
      "source": [
        "# Setup"
      ],
      "metadata": {
        "id": "q8JdjQhfSYHz"
      }
    },
    {
      "cell_type": "code",
      "execution_count": null,
      "metadata": {
        "id": "kj4XDax_RwAt"
      },
      "outputs": [],
      "source": [
        "#import packages\n",
        "\n",
        "import numpy as np\n",
        "import pandas as pd\n",
        "import matplotlib.pyplot as plt\n",
        "import seaborn as sns"
      ]
    },
    {
      "cell_type": "code",
      "source": [
        "# Clone a GitHub repository\n",
        "!git clone https://github.com/taryaksama/data-science/\n",
        "%cd data-science"
      ],
      "metadata": {
        "id": "QWK2mN8CVl-m"
      },
      "execution_count": null,
      "outputs": []
    },
    {
      "cell_type": "code",
      "source": [
        "pathfile = 'Task1_files/'\n",
        "file1 = '240614_177_10pc_frame_0_voronoi_areas_microns.csv'\n",
        "file2 = '240614_177_10pc_surface_coverage_and_density.csv'\n",
        "\n",
        "filename = pathfile+file1\n",
        "df = pd.read_csv(filename)\n",
        "df.columns = ['cellid', 'area', 'area_mean', 'area_norm']"
      ],
      "metadata": {
        "id": "XWs3Y-LbTCU8"
      },
      "execution_count": null,
      "outputs": []
    },
    {
      "cell_type": "code",
      "source": [
        "df"
      ],
      "metadata": {
        "id": "9j4AAbZMTKtv"
      },
      "execution_count": null,
      "outputs": []
    },
    {
      "cell_type": "markdown",
      "source": [
        "# 1. Histogram Area"
      ],
      "metadata": {
        "id": "isiUFdNJXkVr"
      }
    },
    {
      "cell_type": "code",
      "source": [
        "# get counts of histogram\n",
        "bin_edges = list(range(100))\n",
        "bin_edges_norm = list(np.linspace(0,1,11))\n",
        "\n",
        "counts, _, _ = plt.hist(df['area'], bins=bin_edges, density=True)\n",
        "counts_norm, _, _ = plt.hist(df['area_norm'], bins=bin_edges_norm, density=True)\n",
        "plt.close()"
      ],
      "metadata": {
        "id": "MNXJ8cAwW8Eb"
      },
      "execution_count": null,
      "outputs": []
    },
    {
      "cell_type": "code",
      "source": [
        "# display histogram\n",
        "fig, axes = plt.subplots(1,2, figsize=(10, 5))\n",
        "sns.despine(f)\n",
        "\n",
        "## area\n",
        "sns.histplot(df['area'], bins=bin_edges, stat='density', element='poly', alpha=0.5, ax=axes[0])\n",
        "axes[0].set_title('Area')\n",
        "\n",
        "## normalized area\n",
        "sns.histplot(df['area_norm'], bins=bin_edges_norm, stat='density', element='poly', alpha=0.5, ax=axes[1])\n",
        "axes[1].set_title('Normalized Area')"
      ],
      "metadata": {
        "id": "jhzIJT9ndzA4"
      },
      "execution_count": null,
      "outputs": []
    },
    {
      "cell_type": "markdown",
      "source": [
        "# 2. Surface Coverage"
      ],
      "metadata": {
        "id": "WnQ4_u08j7Ag"
      }
    },
    {
      "cell_type": "code",
      "source": [],
      "metadata": {
        "id": "1BbIEmWWj0BX"
      },
      "execution_count": null,
      "outputs": []
    }
  ]
}